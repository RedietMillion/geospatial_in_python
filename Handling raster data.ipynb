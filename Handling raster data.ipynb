{
 "cells": [
  {
   "cell_type": "markdown",
   "id": "06f37b5f",
   "metadata": {},
   "source": [
    "#### Rasterio"
   ]
  },
  {
   "cell_type": "code",
   "execution_count": null,
   "id": "805a28d6",
   "metadata": {},
   "outputs": [],
   "source": [
    "pip install rasterio"
   ]
  },
  {
   "cell_type": "code",
   "execution_count": null,
   "id": "15a12a29",
   "metadata": {},
   "outputs": [],
   "source": [
    "# required imports\n",
    "import rasterio\n",
    "from rasterio.crs import CRS\n",
    "from rasterio.enums import Resampling\n",
    "from matplotlib import pyplot as plt\n",
    "from mpl_toolkits.axes_grid1 import make_axes_locatable\n",
    "import numpy as np\n",
    "from pprint import pprint"
   ]
  },
  {
   "cell_type": "markdown",
   "id": "d1261240",
   "metadata": {},
   "source": [
    "##### Reading a raster "
   ]
  },
  {
   "cell_type": "code",
   "execution_count": null,
   "id": "51c1638f",
   "metadata": {},
   "outputs": [],
   "source": [
    "# Reading a raster \n",
    "raster = rasterio.open('raster.tiff')\n",
    "# print the number of bands use\n",
    "print(raster.count)\n",
    "\n",
    "# to read all the raster as numPy array use\n",
    "raster_array = raster.read()\n",
    "# to read only a specific band use\n",
    "first_band = raster.read(1)  # shape = (Hxw) the band index begins from 1 \n",
    "\n",
    "# To read all the metadata associated wit hraster use\n",
    "metadata = raster.meta\n",
    "print(metadata)"
   ]
  },
  {
   "cell_type": "code",
   "execution_count": null,
   "id": "9422d8ca",
   "metadata": {},
   "outputs": [],
   "source": [
    "# When reading a raster, there might be nodata values, and it is advisable to replace them with NaN values. To do this use\n",
    "first_band[first_band == metadata['nodata']] = np.nan\n",
    "\n",
    "#To resize a raster by a given factor, define first the output shape:\n",
    "out_shape = (raster.count, int(raster.height * 1.5), int(raster.width * 1.5))\n",
    "# then use \n",
    "scaled_raster = raster.read(out_shape=out_shape, resampling=Resampling.bilinear)"
   ]
  },
  {
   "cell_type": "markdown",
   "id": "91da9712",
   "metadata": {},
   "source": [
    "##### Visualization"
   ]
  },
  {
   "cell_type": "code",
   "execution_count": null,
   "id": "95b61b3f",
   "metadata": {},
   "outputs": [],
   "source": [
    "fig, ax = plt.subplots()\n",
    "im = ax.imshow(raster.read(1), cmap='viridis')\n",
    "divider = make_axes_locatable(ax)\n",
    "cax = divider.append_axes('right', size='5%', pad=0.10)\n",
    "fig.colorbar(im, cax=cax, orientation='vertical')\n",
    "plt.savefig('cmap_viz')"
   ]
  },
  {
   "cell_type": "code",
   "execution_count": null,
   "id": "e2de57a3",
   "metadata": {},
   "outputs": [],
   "source": [
    "## In the case of multiple-band satellite rasters, to show the first 3 visible bands use:\n"
   ]
  }
 ],
 "metadata": {
  "kernelspec": {
   "display_name": "Python 3.10 (tensorflow)",
   "language": "python",
   "name": "tensorflow"
  },
  "language_info": {
   "codemirror_mode": {
    "name": "ipython",
    "version": 3
   },
   "file_extension": ".py",
   "mimetype": "text/x-python",
   "name": "python",
   "nbconvert_exporter": "python",
   "pygments_lexer": "ipython3",
   "version": "3.10.10"
  }
 },
 "nbformat": 4,
 "nbformat_minor": 5
}
